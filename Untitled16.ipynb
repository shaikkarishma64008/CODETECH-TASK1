{
  "nbformat": 4,
  "nbformat_minor": 0,
  "metadata": {
    "colab": {
      "provenance": [],
      "authorship_tag": "ABX9TyOas4J13xwKWJzATP7IFXT0",
      "include_colab_link": true
    },
    "kernelspec": {
      "name": "python3",
      "display_name": "Python 3"
    },
    "language_info": {
      "name": "python"
    }
  },
  "cells": [
    {
      "cell_type": "markdown",
      "metadata": {
        "id": "view-in-github",
        "colab_type": "text"
      },
      "source": [
        "<a href=\"https://colab.research.google.com/github/shaikkarishma64008/CODETECH-TASK1/blob/main/Untitled16.ipynb\" target=\"_parent\"><img src=\"https://colab.research.google.com/assets/colab-badge.svg\" alt=\"Open In Colab\"/></a>"
      ]
    },
    {
      "cell_type": "code",
      "execution_count": 1,
      "metadata": {
        "id": "QLWmNfj6tffM",
        "colab": {
          "base_uri": "https://localhost:8080/"
        },
        "outputId": "b857093b-b820-4026-d488-d654efdf9d8d"
      },
      "outputs": [
        {
          "output_type": "stream",
          "name": "stdout",
          "text": [
            "    EAR  blinkrate  yawncount  time  result\n",
            "0  0.30         10          1     9  Drowsy\n",
            "1  0.50         15          0    13   Alert\n",
            "2  0.25         12          2     8  Drowsy\n",
            "3  0.60          5          0    19   Alert\n",
            "4  0.28          8          1    14  Drowsy\n",
            "5  0.70          3          3    20   Alert\n",
            "6  0.35          9          1     7  Drowsy\n",
            "7  0.40          7          0    17   Alert\n"
          ]
        }
      ],
      "source": [
        "import pandas as anusha\n",
        "karishma=anusha.read_csv('drowsy.csv')\n",
        "print(karishma)"
      ]
    },
    {
      "cell_type": "code",
      "source": [
        "import pandas as anusha\n",
        "karishma=anusha.read_csv('drowsy.csv')\n",
        "print(karishma)\n",
        "\n",
        "feature=anusha.read_csv('drowsy.csv',usecols=[0,1,2,3])\n",
        "label=anusha.read_csv('drowsy.csv',usecols=[4])"
      ],
      "metadata": {
        "colab": {
          "base_uri": "https://localhost:8080/"
        },
        "id": "V5hc4O88vkit",
        "outputId": "e992885a-db0a-4bb5-83a1-a84761d65eff"
      },
      "execution_count": 9,
      "outputs": [
        {
          "output_type": "stream",
          "name": "stdout",
          "text": [
            "    EAR  blinkrate  yawncount  time  result\n",
            "0  0.30         10          1     9  Drowsy\n",
            "1  0.50         15          0    13   Alert\n",
            "2  0.25         12          2     8  Drowsy\n",
            "3  0.60          5          0    19   Alert\n",
            "4  0.28          8          1    14  Drowsy\n",
            "5  0.70          3          3    20   Alert\n",
            "6  0.35          9          1     7  Drowsy\n",
            "7  0.40          7          0    17   Alert\n"
          ]
        }
      ]
    },
    {
      "cell_type": "code",
      "source": [
        "import pandas as anusha\n",
        "from sklearn.neighbors import KNeighborsClassifier #Fixed the typo in the import statement. It should be KNeighborsClassifier\n",
        "karishma=anusha.read_csv('drowsy.csv')\n",
        "print(karishma)\n",
        "\n",
        "feature=anusha.read_csv('drowsy.csv',usecols=[0,1,2,3])\n",
        "label=anusha.read_csv('drowsy.csv',usecols=[4])\n",
        "\n",
        "vijay=KNeighborsClassifier(n_neighbors=2)\n",
        "vijay.fit(feature,label) # Changed Feature to feature\n",
        "print(vijay.predict([[0.7,3,3,20]]))\n",
        "print(vijay.score(feature,label)) # Changed Feature to feature"
      ],
      "metadata": {
        "colab": {
          "base_uri": "https://localhost:8080/"
        },
        "id": "9yRp987Jx3UF",
        "outputId": "26e144cc-7a67-42dd-94e9-359d4fed725e"
      },
      "execution_count": 11,
      "outputs": [
        {
          "output_type": "stream",
          "name": "stdout",
          "text": [
            "    EAR  blinkrate  yawncount  time  result\n",
            "0  0.30         10          1     9  Drowsy\n",
            "1  0.50         15          0    13   Alert\n",
            "2  0.25         12          2     8  Drowsy\n",
            "3  0.60          5          0    19   Alert\n",
            "4  0.28          8          1    14  Drowsy\n",
            "5  0.70          3          3    20   Alert\n",
            "6  0.35          9          1     7  Drowsy\n",
            "7  0.40          7          0    17   Alert\n",
            "['Alert']\n",
            "0.875\n"
          ]
        },
        {
          "output_type": "stream",
          "name": "stderr",
          "text": [
            "/usr/local/lib/python3.10/dist-packages/sklearn/neighbors/_classification.py:238: DataConversionWarning: A column-vector y was passed when a 1d array was expected. Please change the shape of y to (n_samples,), for example using ravel().\n",
            "  return self._fit(X, y)\n",
            "/usr/local/lib/python3.10/dist-packages/sklearn/base.py:493: UserWarning: X does not have valid feature names, but KNeighborsClassifier was fitted with feature names\n",
            "  warnings.warn(\n"
          ]
        }
      ]
    },
    {
      "cell_type": "code",
      "source": [],
      "metadata": {
        "id": "yCDsmqk70xDH"
      },
      "execution_count": null,
      "outputs": []
    }
  ]
}